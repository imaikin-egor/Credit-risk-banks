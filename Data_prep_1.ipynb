{
 "cells": [
  {
   "cell_type": "code",
   "execution_count": 1,
   "id": "5043349f-9fd5-450a-97d1-9a6f510ccb0e",
   "metadata": {},
   "outputs": [],
   "source": [
    "import pandas as pd\n",
    "import matplotlib.pyplot as plt\n",
    "import sklearn\n",
    "import datetime\n",
    "import numpy as np\n",
    "from tqdm import tqdm\n",
    "from sklearn.model_selection import train_test_split\n",
    "from sklearn.model_selection import GridSearchCV\n",
    "from sklearn.model_selection import KFold\n",
    "import matplotlib.pyplot as plt\n",
    "from sklearn.metrics import f1_score\n",
    "from sklearn.metrics import roc_auc_score\n",
    "from sklearn.tree import DecisionTreeClassifier\n",
    "import optuna\n",
    "import eli5\n",
    "from eli5.sklearn import PermutationImportance\n",
    "import pickle\n",
    "import warnings\n",
    "warnings.simplefilter(\"ignore\")"
   ]
  },
  {
   "cell_type": "markdown",
   "id": "bb67b2f0-b862-4bbc-8c3a-6e2df0e828d2",
   "metadata": {},
   "source": [
    "dataset - данные с гитхаб (сбор с банки.ру)\n",
    "\n",
    "dataset_3 - мэтчинг номера лицензии банка с его названием"
   ]
  },
  {
   "cell_type": "code",
   "execution_count": 2,
   "id": "793af15a-12ed-450c-8296-d4e94fb24962",
   "metadata": {},
   "outputs": [],
   "source": [
    "df = pd.read_csv('dataset.csv')"
   ]
  },
  {
   "cell_type": "code",
   "execution_count": 3,
   "id": "a499f244-3c71-4a9e-ba6d-03d113f26328",
   "metadata": {},
   "outputs": [],
   "source": [
    "df2 = pd.read_excel('dataset_3.xlsx', engine='openpyxl')"
   ]
  },
  {
   "cell_type": "code",
   "execution_count": 4,
   "id": "048247c9-91ff-469f-acff-f7999af9656e",
   "metadata": {},
   "outputs": [
    {
     "name": "stderr",
     "output_type": "stream",
     "text": [
      "100%|██████████| 72439/72439 [01:50<00:00, 653.04it/s]\n"
     ]
    }
   ],
   "source": [
    "df2 = df2[['Lic', 'fact', 'date']]\n",
    "df2['date'] = df2['date'].dt.to_period('M')\n",
    "df = df.sort_values(by=['дата', 'лицензия'])\n",
    "df['дата'] = pd.to_datetime(df['дата']).dt.to_period('M')\n",
    "\n",
    "for i in tqdm(range(len(df))):\n",
    "    tmp1 = df.iloc[i, 0]\n",
    "    tmp2 = df.iloc[i, 1]\n",
    "    try:\n",
    "        a = df2.loc[(df2['Lic']==tmp1)&(df2['date']==tmp2+3), 'fact'].values[0]\n",
    "        df.iloc[i, -1] = a\n",
    "    except:\n",
    "        try:\n",
    "            a = df2.loc[(df2['Lic']==tmp1)&(df2['date']==tmp2+2), 'fact'].values[0]\n",
    "            df.iloc[i, -1] = a\n",
    "        except:\n",
    "            try:\n",
    "                a = df2.loc[(df2['Lic']==tmp1)&(df2['date']==tmp2+1), 'fact'].values[0]\n",
    "                df.iloc[i, -1] = a\n",
    "            except:\n",
    "                df.iloc[i, -1] = 0\n",
    "\n",
    "df = df[df['лицензия'].isna()==False]\n",
    "df.drop_duplicates(subset=['лицензия', 'дата'], inplace=True)"
   ]
  },
  {
   "cell_type": "code",
   "execution_count": 5,
   "id": "85e197db-5351-4cc7-84e0-747ebbd315df",
   "metadata": {},
   "outputs": [
    {
     "data": {
      "text/plain": [
       "default\n",
       "0.0       69285\n",
       "отозв.      807\n",
       "ликв.       127\n",
       "Name: count, dtype: int64"
      ]
     },
     "execution_count": 5,
     "metadata": {},
     "output_type": "execute_result"
    }
   ],
   "source": [
    "df['default'].value_counts()"
   ]
  },
  {
   "cell_type": "code",
   "execution_count": 6,
   "id": "bab508c0-19c3-443a-86c7-0426e26e2436",
   "metadata": {},
   "outputs": [],
   "source": [
    "df.to_csv('dataset_1.csv')"
   ]
  },
  {
   "cell_type": "code",
   "execution_count": null,
   "id": "06d2213f-b747-4234-a51d-40a7aa7ca73d",
   "metadata": {},
   "outputs": [],
   "source": []
  }
 ],
 "metadata": {
  "kernelspec": {
   "display_name": "Python 3 (ipykernel)",
   "language": "python",
   "name": "python3"
  },
  "language_info": {
   "codemirror_mode": {
    "name": "ipython",
    "version": 3
   },
   "file_extension": ".py",
   "mimetype": "text/x-python",
   "name": "python",
   "nbconvert_exporter": "python",
   "pygments_lexer": "ipython3",
   "version": "3.9.15"
  }
 },
 "nbformat": 4,
 "nbformat_minor": 5
}
